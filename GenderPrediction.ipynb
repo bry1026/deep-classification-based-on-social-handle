{
  "nbformat": 4,
  "nbformat_minor": 0,
  "metadata": {
    "colab": {
      "name": "GenderPrediction.ipynb",
      "version": "0.3.2",
      "provenance": [],
      "collapsed_sections": [],
      "toc_visible": true
    },
    "language_info": {
      "codemirror_mode": {
        "name": "ipython",
        "version": 3
      },
      "file_extension": ".py",
      "mimetype": "text/x-python",
      "name": "python",
      "nbconvert_exporter": "python",
      "pygments_lexer": "ipython3",
      "version": "3.6.1"
    },
    "kernelspec": {
      "name": "python3",
      "display_name": "Python 3"
    },
    "accelerator": "GPU"
  },
  "cells": [
    {
      "cell_type": "markdown",
      "metadata": {
        "id": "Lny0-uPIOeCA",
        "colab_type": "text"
      },
      "source": [
        "# Gender Classification by Name\n",
        "In this project, I will train a recurrent neural network to classify a given first name as either male or female"
      ]
    },
    {
      "cell_type": "code",
      "metadata": {
        "id": "38tD_JAJOeCE",
        "colab_type": "code",
        "outputId": "7be5c13e-5c1f-4f07-c5f6-05bc4ae6e82a",
        "colab": {
          "base_uri": "https://localhost:8080/",
          "height": 34
        }
      },
      "source": [
        "import numpy as np\n",
        "import pandas as pd\n",
        "import sklearn.utils\n",
        "import random\n",
        "import tensorflow as tf\n",
        "from keras.models import load_model, Model, Sequential\n",
        "from keras.layers import Dense, Activation, Dropout, LSTM, Reshape, Bidirectional\n",
        "from keras.initializers import glorot_uniform\n",
        "from keras.utils import to_categorical\n",
        "from keras.optimizers import Adam\n",
        "from keras import backend as K"
      ],
      "execution_count": 1,
      "outputs": [
        {
          "output_type": "stream",
          "text": [
            "Using TensorFlow backend.\n"
          ],
          "name": "stderr"
        }
      ]
    },
    {
      "cell_type": "markdown",
      "metadata": {
        "collapsed": true,
        "id": "Ns6g6rqfOeCd",
        "colab_type": "text"
      },
      "source": [
        "## Dataset and Preprocessing\n",
        "\n",
        "We will first address the issue of unisex name. We will first read the file and then create a dictionary that maps an index to a name, its gender, and the number of people who were assigned that name and gender at birth. If a name is unisex, it will be assigned the gender which is most popularly assigned to someone with that name."
      ]
    },
    {
      "cell_type": "code",
      "metadata": {
        "id": "c-3OauxlOeCk",
        "colab_type": "code",
        "colab": {}
      },
      "source": [
        "with open('name_data.txt', 'r') as file:\n",
        "    dataList = file.readlines()\n",
        "\n",
        "name_dict = {}\n",
        "\n",
        "for name_data in dataList:\n",
        "    list = name_data.split(',')\n",
        "    name = list[0].lower()\n",
        "    gender = list[1]\n",
        "    data_num_people = int(list[2][:-1])\n",
        "    \n",
        "    #If name is unisex, check if name is more commonly male or female\n",
        "    if name in name_dict.keys() and name_dict[name][1] > data_num_people:\n",
        "        continue\n",
        "    else:\n",
        "        name_dict[name] = [gender,data_num_people]"
      ],
      "execution_count": 0,
      "outputs": []
    },
    {
      "cell_type": "markdown",
      "metadata": {
        "id": "10nBxN9JOeC2",
        "colab_type": "text"
      },
      "source": [
        "We will continue our preprocessing by creating a pandas datafram from our dictionary of names. We will then shuffle the rows in our dataframe. Lastly, we will assign the names to our 'X' array and genders to our 'Y' array."
      ]
    },
    {
      "cell_type": "code",
      "metadata": {
        "id": "M-G-N-OiOeC5",
        "colab_type": "code",
        "colab": {}
      },
      "source": [
        "name_data = pd.DataFrame.from_dict(data = name_dict, orient = 'index' )\n",
        "name_data = sklearn.utils.shuffle(name_data)\n",
        "X_string = name_data.index\n",
        "Y_char = name_data[0].values"
      ],
      "execution_count": 0,
      "outputs": []
    },
    {
      "cell_type": "markdown",
      "metadata": {
        "id": "H52mxvQ_OeDB",
        "colab_type": "text"
      },
      "source": [
        "In the cell below, we create a python dictionary (i.e., a hash table) to map each character to an index from 0-26. We also create a second python dictionary that maps each index back to the corresponding character character. This will help to figure out what index corresponds to what character in the probability distribution output of the softmax layer."
      ]
    },
    {
      "cell_type": "code",
      "metadata": {
        "id": "_lQCTt2qOeDD",
        "colab_type": "code",
        "outputId": "75379ded-2bb8-4b2d-c3c5-18c36ab570b5",
        "colab": {
          "base_uri": "https://localhost:8080/",
          "height": 294
        }
      },
      "source": [
        "index_to_char = {0: '\\n', 1: 'a', 2: 'b', 3: 'c', 4: 'd', \n",
        "                 5: 'e', 6: 'f', 7: 'g', 8: 'h', 9: 'i', \n",
        "                 10: 'j', 11: 'k', 12: 'l', 13: 'm', 14: 'n', \n",
        "                 15: 'o', 16: 'p', 17: 'q', 18: 'r', 19: 's', \n",
        "                 20: 't', 21: 'u', 22: 'v', 23: 'w', 24: 'x', \n",
        "                 25: 'y', 26: 'z'}\n",
        "char_to_index = inv_map = {v: k for k, v in index_to_char.items()}\n",
        "print(char_to_index)"
      ],
      "execution_count": 4,
      "outputs": [
        {
          "output_type": "stream",
          "text": [
            "{'\\n': 0, 'a': 1, 'b': 2, 'c': 3, 'd': 4, 'e': 5, 'f': 6, 'g': 7, 'h': 8, 'i': 9, 'j': 10, 'k': 11, 'l': 12, 'm': 13, 'n': 14, 'o': 15, 'p': 16, 'q': 17, 'r': 18, 's': 19, 't': 20, 'u': 21, 'v': 22, 'w': 23, 'x': 24, 'y': 25, 'z': 26}\n"
          ],
          "name": "stdout"
        }
      ]
    },
    {
      "cell_type": "markdown",
      "metadata": {
        "id": "Rpw0JhkYOeDN",
        "colab_type": "text"
      },
      "source": [
        "We will now convert each name into a list of indices. We will also pad the list of indices with zeros up to the maximum vocab length. After this, we will create one-hot representations of each index in each list and use these to create our final training set of matrices that represents words using matrices of one-hot representations of each character. Finally, we will convert Y to a binary list where 'M' maps to 0 and 'F' maps to 1"
      ]
    },
    {
      "cell_type": "code",
      "metadata": {
        "id": "8JdAfPpxOeDP",
        "colab_type": "code",
        "colab": {}
      },
      "source": [
        "max_name_length = len(max(X_string, key = len))\n",
        "\n",
        "def convert_name_to_list_of_indices(name):\n",
        "    list = []\n",
        "    for char in name:\n",
        "        list.append(char_to_index[char])\n",
        "    while len(list) < max_name_length:\n",
        "        list.append(0)\n",
        "    return np.asarray(list)\n",
        "\n",
        "X_index = np.asarray([convert_name_to_list_of_indices(name) for name in X_string])\n",
        "\n",
        "X_one_hot = tf.one_hot(indices = X_index, depth = 27)\n",
        "\n",
        "Y_binary = (Y_char == \"F\").astype(int)\n",
        "Y_one_hot = tf.one_hot(indices = Y_binary, depth = 2, dtype = 'float32')"
      ],
      "execution_count": 0,
      "outputs": []
    },
    {
      "cell_type": "markdown",
      "metadata": {
        "id": "BLfzPVDMOeDT",
        "colab_type": "text"
      },
      "source": [
        "## Learning Model\n",
        "We will now move on to creating our neural network architecture using tensorflow. For this project I have decided to create a 2-layer LSTM model using dropout regularization and a dense-activation layer at the end to compute our binary output."
      ]
    },
    {
      "cell_type": "code",
      "metadata": {
        "id": "RohnJ8oJOeDU",
        "colab_type": "code",
        "colab": {}
      },
      "source": [
        "model = Sequential()\n",
        "model.add(Bidirectional(LSTM(512, return_sequences=True, input_shape=(max_name_length,27))))\n",
        "model.add(Dropout(rate = 0.2))\n",
        "model.add(Bidirectional(LSTM(512, return_sequences=False)))\n",
        "model.add(Dropout(rate = 0.2))\n",
        "model.add(Dense(2))\n",
        "model.add(Activation('softmax'))"
      ],
      "execution_count": 0,
      "outputs": []
    },
    {
      "cell_type": "markdown",
      "metadata": {
        "id": "hXNX5psiOeDZ",
        "colab_type": "text"
      },
      "source": [
        "We will use adam optimization, categorical_crossentropy loss, and an accuracy metric. We will use gradient clipping with an absolute value of 10 to avoid the exploding gradients that can come with this character-level rnn."
      ]
    },
    {
      "cell_type": "code",
      "metadata": {
        "id": "ntXTKNNOOeDa",
        "colab_type": "code",
        "colab": {}
      },
      "source": [
        "opt = Adam(clipvalue = 10)\n",
        "model.compile(loss='binary_crossentropy', optimizer='adam',metrics=['accuracy'])"
      ],
      "execution_count": 0,
      "outputs": []
    },
    {
      "cell_type": "markdown",
      "metadata": {
        "id": "HMaR4hQOOeDf",
        "colab_type": "text"
      },
      "source": [
        "We will now split our name and gender sets into training, development, and test sets. We will compile the X and Y tensors in order to pass them through our model"
      ]
    },
    {
      "cell_type": "code",
      "metadata": {
        "id": "7JWpePoEOeDh",
        "colab_type": "code",
        "colab": {}
      },
      "source": [
        "length = X_one_hot.get_shape().as_list()[0]\n",
        "tenth = length//10\n",
        "\n",
        "sess = tf.Session()\n",
        "X = sess.run(X_one_hot)\n",
        "Y = sess.run(Y_one_hot)\n",
        "\n",
        "X_train = X[:tenth*8]\n",
        "X_dev = X[tenth*8:tenth*9]\n",
        "X_test = X[tenth*9:length]\n",
        "\n",
        "Y_train = Y[:tenth*8]\n",
        "Y_dev = Y[tenth*8:tenth*9]\n",
        "Y_test = Y[tenth*9:length]"
      ],
      "execution_count": 0,
      "outputs": []
    },
    {
      "cell_type": "markdown",
      "metadata": {
        "id": "CogOIxEzOeDp",
        "colab_type": "text"
      },
      "source": [
        "We are now ready to train our model"
      ]
    },
    {
      "cell_type": "code",
      "metadata": {
        "id": "iuGf04P3OeDr",
        "colab_type": "code",
        "outputId": "35c5a55a-7fab-4805-98b3-74ef6e69562e",
        "colab": {
          "base_uri": "https://localhost:8080/",
          "height": 284
        }
      },
      "source": [
        "model.fit(X_train, Y_train, epochs=5, batch_size = 32, validation_data=(X_dev, Y_dev))\n",
        "model.save_weights('gender_model',overwrite=True)"
      ],
      "execution_count": 91,
      "outputs": [
        {
          "output_type": "stream",
          "text": [
            "Train on 23928 samples, validate on 2991 samples\n",
            "Epoch 1/5\n",
            "23928/23928 [==============================] - 75s 3ms/step - loss: 0.2381 - acc: 0.9015 - val_loss: 0.2771 - val_acc: 0.8920\n",
            "Epoch 2/5\n",
            "23928/23928 [==============================] - 75s 3ms/step - loss: 0.2101 - acc: 0.9137 - val_loss: 0.2849 - val_acc: 0.8897\n",
            "Epoch 3/5\n",
            "23928/23928 [==============================] - 76s 3ms/step - loss: 0.1845 - acc: 0.9236 - val_loss: 0.2871 - val_acc: 0.8923\n",
            "Epoch 4/5\n",
            "23928/23928 [==============================] - 75s 3ms/step - loss: 0.1598 - acc: 0.9352 - val_loss: 0.2896 - val_acc: 0.8967\n",
            "Epoch 5/5\n",
            "23928/23928 [==============================] - 76s 3ms/step - loss: 0.1283 - acc: 0.9498 - val_loss: 0.3064 - val_acc: 0.8990\n"
          ],
          "name": "stdout"
        }
      ]
    },
    {
      "cell_type": "markdown",
      "metadata": {
        "id": "aacOWCspTFr1",
        "colab_type": "text"
      },
      "source": [
        "## Creating Predictions based on Model\n",
        "We will now take the steps necessary to classify new names using our prediction model. We will start by displaying the score and accuracy of our model on the development set."
      ]
    },
    {
      "cell_type": "code",
      "metadata": {
        "id": "MhONiYrrQLab",
        "colab_type": "code",
        "colab": {
          "base_uri": "https://localhost:8080/",
          "height": 68
        },
        "outputId": "553ce149-12d2-4f37-b02c-851164bd242b"
      },
      "source": [
        "score, acc = model.evaluate(X_dev, Y_dev)\n",
        "print('Dev score:', score)\n",
        "print('Dev accuracy:', acc)"
      ],
      "execution_count": 92,
      "outputs": [
        {
          "output_type": "stream",
          "text": [
            "2991/2991 [==============================] - 4s 1ms/step\n",
            "Dev score: 0.3063549758179536\n",
            "Dev accuracy: 0.8990304246470108\n"
          ],
          "name": "stdout"
        }
      ]
    },
    {
      "cell_type": "markdown",
      "metadata": {
        "id": "5RrqB2e8Wj03",
        "colab_type": "text"
      },
      "source": [
        "We will now run our model on our test set"
      ]
    },
    {
      "cell_type": "code",
      "metadata": {
        "id": "8uRJGp1MWoUP",
        "colab_type": "code",
        "colab": {
          "base_uri": "https://localhost:8080/",
          "height": 68
        },
        "outputId": "2af6a1ec-6717-48f1-98fd-232d0e2a65d0"
      },
      "source": [
        "score, acc = model.evaluate(X_test, Y_test)\n",
        "print('Test score:', score)\n",
        "print('Test accuracy:', acc)"
      ],
      "execution_count": 93,
      "outputs": [
        {
          "output_type": "stream",
          "text": [
            "2991/2991 [==============================] - 4s 1ms/step\n",
            "Test score: 0.3137703503664821\n",
            "Test accuracy: 0.8913406887926493\n"
          ],
          "name": "stdout"
        }
      ]
    },
    {
      "cell_type": "markdown",
      "metadata": {
        "id": "DyynN2LAWwfl",
        "colab_type": "text"
      },
      "source": [
        "We will now enable the model to create prediction on new names.\n"
      ]
    },
    {
      "cell_type": "code",
      "metadata": {
        "id": "uNa6pruTTTBQ",
        "colab_type": "code",
        "colab": {
          "base_uri": "https://localhost:8080/",
          "height": 34
        },
        "outputId": "f2faa34a-4231-40e6-8794-93881cdb0fcc"
      },
      "source": [
        "def create_one_hot_matrix(name):\n",
        "  list_indices = convert_name_to_list_of_indices(name)\n",
        "  one_hot_matrix = tf.one_hot(indices = list_indices, depth = 27)\n",
        "  sess = tf.Session()\n",
        "  one_hot_matrix = sess.run(one_hot_matrix)\n",
        "  return one_hot_matrix\n",
        "\n",
        "list_of_names = ['derrick', 'alexis', 'brittany', 'sierra', 'jeff', 'emma', 'kamara']\n",
        "\n",
        "prediction_input = []\n",
        "for name in list_of_names:\n",
        "  one_hot_matrix = create_one_hot_matrix(name)\n",
        "  prediction_input.append(one_hot_matrix)\n",
        "\n",
        "pred = model.predict(np.asarray(prediction_input))\n",
        "prob_m = [\"F\" if i[0] < 0.5 else \"M\" for i in pred]\n",
        "print(prob_m)"
      ],
      "execution_count": 121,
      "outputs": [
        {
          "output_type": "stream",
          "text": [
            "['M', 'F', 'F', 'F', 'M', 'F', 'F']\n"
          ],
          "name": "stdout"
        }
      ]
    }
  ]
}